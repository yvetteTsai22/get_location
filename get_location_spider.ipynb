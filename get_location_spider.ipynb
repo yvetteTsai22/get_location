{
 "cells": [
  {
   "cell_type": "code",
   "execution_count": 19,
   "metadata": {},
   "outputs": [],
   "source": [
    "from selenium import webdriver\n",
    "from selenium.webdriver.common.by import By\n",
    "from selenium.webdriver.support.ui import WebDriverWait\n",
    "from selenium.webdriver.support import expected_conditions as EC\n",
    "import time\n",
    "import pandas as pd\n",
    "from selenium.common.exceptions import NoSuchElementException, TimeoutException\n",
    "import re\n",
    "#使用chrome的webdriver\n",
    "browser = webdriver.Chrome()\n",
    "#開啟頁面\n",
    "browser.get('https://decipher.sanger.ac.uk/syndrome/16#genotype/cnv/21/patient-overlap/cnvs')\n",
    "#如果需要執行完自動關閉，就要加上下面這一行\n",
    "#browser.close()\n"
   ]
  },
  {
   "cell_type": "code",
   "execution_count": 7,
   "metadata": {},
   "outputs": [],
   "source": [
    "def get_cnvs_table(browser, clickable_open_page):\n",
    "    clickable_open_page.click()\n",
    "    browser.switch_to.window(browser.window_handles[1])\n",
    "    xp = \"//table[@id='patient-cnvs-table']\"\n",
    "    try:\n",
    "        element = WebDriverWait(browser, 5).until(\n",
    "            EC.presence_of_element_located(\n",
    "                (By.XPATH, \n",
    "                 xp\n",
    "                ))\n",
    "        )\n",
    "    except TimeoutException:\n",
    "#         print('Element not found')\n",
    "        browser.close()\n",
    "        browser.switch_to.window(parentWindow)\n",
    "        return\n",
    "    else:\n",
    "        cnvs_table = browser.find_element(By.XPATH, xp)\n",
    "        df = pd.read_html(cnvs_table.get_attribute('outerHTML'))[0]\n",
    "#         loc_s = browser.find_element(\n",
    "#                     By.XPATH, \n",
    "#                     \"//div[@class='position']/span[@class='start']\"\n",
    "#                 ).text\n",
    "#         loc_e = browser.find_element(\n",
    "#                     By.XPATH, \n",
    "#                     \"//div[@class='position']/span[@class='end']\"\n",
    "#                 ).text\n",
    "\n",
    "        browser.close()\n",
    "        browser.switch_to.window(parentWindow)\n",
    "        return df"
   ]
  },
  {
   "cell_type": "code",
   "execution_count": 8,
   "metadata": {},
   "outputs": [],
   "source": [
    "def get_location(browser, clickable_open_page):\n",
    "    \n",
    "    browser.switch_to.window(browser.window_handles[1])\n",
    "    try:\n",
    "        element = WebDriverWait(browser, 100).until(\n",
    "            EC.presence_of_element_located(\n",
    "                (By.XPATH, \n",
    "                 \"//div[@class='position']/span[@class='end']\"\n",
    "                ))\n",
    "        )\n",
    "    finally:\n",
    "#         pass\n",
    "#         browser.implicitly_wait(30)\n",
    "        loc_s = browser.find_element(\n",
    "                    By.XPATH, \n",
    "                    \"//div[@class='position']/span[@class='start']\"\n",
    "                ).text\n",
    "        loc_e = browser.find_element(\n",
    "                    By.XPATH, \n",
    "                    \"//div[@class='position']/span[@class='end']\"\n",
    "                ).text\n",
    "\n",
    "        browser.close()\n",
    "        browser.switch_to.window(parentWindow)\n",
    "        return (int(loc_s), int(loc_e))"
   ]
  },
  {
   "cell_type": "code",
   "execution_count": 9,
   "metadata": {},
   "outputs": [],
   "source": [
    "# close the prompt frame\n",
    "try:\n",
    "    element = WebDriverWait(browser, 10).until(\n",
    "        EC.presence_of_element_located(\n",
    "            (By.XPATH, \"//button[@class='close']\")\n",
    "        )\n",
    "    )\n",
    "finally:\n",
    "    a = browser.find_element(By.XPATH, \"//button[@class='close']\")\n",
    "    a.click()\n",
    "    \n",
    "# change to 100 a page\n",
    "try:\n",
    "    element = WebDriverWait(browser, 60).until(\n",
    "        EC.presence_of_element_located(\n",
    "            (By.XPATH, \n",
    "             \"//div[@class='tab-content']/div[@class='tab-pane block active']/div[@class='dataTables_wrapper vue-table-wrapper']/div[@class='panel panel-default']/div[@class='panel-footer']/div[@class='row']/div[@class='col-xs-2']/div[@class='dataTables_length']/label/select[@class='form-control input-sm']\"\n",
    "            ))\n",
    "    )\n",
    "finally:\n",
    "    sampleNumList = browser.find_element(\n",
    "        By.XPATH,\n",
    "        \"//div[@class='tab-content']/div[@class='tab-pane block active']/div[@class='dataTables_wrapper vue-table-wrapper']/div[@class='panel panel-default']/div[@class='panel-footer']/div[@class='row']/div[@class='col-xs-2']/div[@class='dataTables_length']/label/select[@class='form-control input-sm']\")\n",
    "    sampleNumList.send_keys(100)"
   ]
  },
  {
   "cell_type": "code",
   "execution_count": 10,
   "metadata": {
    "collapsed": true
   },
   "outputs": [
    {
     "name": "stdout",
     "output_type": "stream",
     "text": [
      "270971\n",
      "366562\n",
      "366621\n",
      "366775\n",
      "282618\n",
      "356289\n",
      "276506\n",
      "622\n",
      "986\n",
      "265746\n",
      "400975\n",
      "251228\n",
      "394949\n",
      "394976\n",
      "395364\n",
      "396458\n",
      "397154\n",
      "397192\n",
      "397243\n",
      "398084\n",
      "395346\n",
      "258298\n",
      "296465\n",
      "Done within time 00:25:46.\n",
      "3\n"
     ]
    }
   ],
   "source": [
    "start_time = time.time()\n",
    "global parentWindow\n",
    "parentWindow = browser.window_handles[0]\n",
    "# turn to the next page\n",
    "xp = \"//div[@class='tab-content']/div[@class='tab-pane block active']/div[@class='dataTables_wrapper vue-table-wrapper']/div[@class='panel panel-default']/div[@class='panel-footer']/div[@class='row']/div[@class='col-xs-8 text-center']/div[@class='dataTables_paginate paging_simple_numbers']/ul[@class='pagination']/li/a\"\n",
    "try:\n",
    "    element = WebDriverWait(browser, 10).until(\n",
    "        EC.presence_of_element_located(\n",
    "            (By.XPATH, xp)\n",
    "        )\n",
    "    )\n",
    "finally:    \n",
    "    pages = browser.find_elements(By.XPATH, xp)[1:-1]\n",
    "\n",
    "locs, dfs = [], []\n",
    "not_opened_elements = {}\n",
    "for idx_p, page in enumerate(pages):\n",
    "    page.click()\n",
    "    noes = []\n",
    "    # get table\n",
    "    try:\n",
    "        element = WebDriverWait(browser, 10).until(\n",
    "            EC.presence_of_element_located(\n",
    "                (By.XPATH, \"//table[@class='table table-striped table-hover data-table vue-table']\")\n",
    "            )\n",
    "        )\n",
    "    finally:    \n",
    "        target_table = browser.find_element(By.XPATH, \"//table[@class='table table-striped table-hover data-table vue-table']\")\n",
    "        # get table\n",
    "        df = pd.read_html(target_table.get_attribute('outerHTML'))[0]\n",
    "        dfs.append(df)\n",
    "    clickable_open_pages = browser.find_elements(\n",
    "        By.XPATH, \n",
    "        \"//div[@class='tab-content']/div[@class='tab-pane block active']/div[@class='dataTables_wrapper vue-table-wrapper']/div[@class='panel panel-default']/table[@class='table table-striped table-hover data-table vue-table']/tbody/tr[@class='clickable open-page']/td[1]\")\n",
    "\n",
    "    for idx, clickable_open_page in enumerate(clickable_open_pages):\n",
    "        loc_df = get_cnvs_table(browser, clickable_open_page)\n",
    "        if type(loc_df)!=pd.core.frame.DataFrame:\n",
    "            print(clickable_open_page.text)\n",
    "            noes.append(clickable_open_page.text)\n",
    "        else:\n",
    "            loc_df = loc_df[loc_df.columns[:2]]\n",
    "            loc_df['Patient'] = int(clickable_open_page.text)\n",
    "            loc_df.columns = ['Location', 'class/mean_ratio', 'Patient']\n",
    "            locs.append(loc_df)\n",
    "#         break\n",
    "    not_opened_elements[idx_p] = noes\n",
    "#         break\n",
    "# print(len(dfs))\n",
    "consumed_time = time.strftime(\"%H:%M:%S\", time.gmtime(time.time()-start_time))\n",
    "print('Done within time %s.' % consumed_time)\n",
    "print(len(noes))"
   ]
  },
  {
   "cell_type": "code",
   "execution_count": 11,
   "metadata": {},
   "outputs": [],
   "source": [
    "# store for sure\n",
    "df = pd.concat(dfs, sort=False, ignore_index=True)\n",
    "df_loc = pd.concat(locs, ignore_index=True, sort=False)\n",
    "df.to_pickle('df.csv')\n",
    "df_loc.to_pickle('df_loc.csv')"
   ]
  },
  {
   "cell_type": "code",
   "execution_count": 12,
   "metadata": {},
   "outputs": [
    {
     "data": {
      "text/plain": [
       "(674, 3)"
      ]
     },
     "execution_count": 12,
     "metadata": {},
     "output_type": "execute_result"
    }
   ],
   "source": [
    "# check cell\n",
    "not_opened_elements\n",
    "a_test = pd.read_pickle('df.csv')\n",
    "b_test = pd.read_pickle('df_loc.csv')\n",
    "b_test.shape"
   ]
  },
  {
   "cell_type": "code",
   "execution_count": 13,
   "metadata": {},
   "outputs": [
    {
     "name": "stdout",
     "output_type": "stream",
     "text": [
      "Done within time 00:01:06.\n"
     ]
    }
   ],
   "source": [
    "start_time = time.time()\n",
    "not_opened_elements_2 = {}\n",
    "\n",
    "# get the dropped elements\n",
    "for idx_p, page in enumerate(pages):\n",
    "    if len(not_opened_elements[idx_p])==0:\n",
    "        continue\n",
    "    page.click()\n",
    "    noes = []\n",
    "    clickable_open_pages = browser.find_elements(\n",
    "        By.XPATH, \n",
    "        \"//div[@class='tab-content']/div[@class='tab-pane block active']/div[@class='dataTables_wrapper vue-table-wrapper']/div[@class='panel panel-default']/table[@class='table table-striped table-hover data-table vue-table']/tbody/tr[@class='clickable open-page']/td[1]\")\n",
    "\n",
    "    for idx, clickable_open_page in enumerate(clickable_open_pages):\n",
    "        if clickable_open_page.text in set(not_opened_elements[idx_p]):            \n",
    "            loc_df = get_cnvs_table(browser, clickable_open_page)\n",
    "            if type(loc_df)!=pd.core.frame.DataFrame:\n",
    "                print(clickable_open_page.text)\n",
    "                noes.append(clickable_open_page.text)\n",
    "            else:\n",
    "                loc_df = loc_df[loc_df.columns[:2]]\n",
    "                loc_df['Patient'] = int(clickable_open_page.text)\n",
    "                loc_df.columns = ['Location', 'class/mean_ratio', 'Patient']\n",
    "                locs.append(loc_df)\n",
    "#         break\n",
    "    not_opened_elements_2[idx_p] = noes\n",
    "#         break\n",
    "# print(len(dfs))\n",
    "consumed_time = time.strftime(\"%H:%M:%S\", time.gmtime(time.time()-start_time))\n",
    "print('Done within time %s.' % consumed_time)"
   ]
  },
  {
   "cell_type": "code",
   "execution_count": 13,
   "metadata": {
    "collapsed": true
   },
   "outputs": [
    {
     "ename": "KeyError",
     "evalue": "6",
     "output_type": "error",
     "traceback": [
      "\u001b[1;31m---------------------------------------------------------------------------\u001b[0m",
      "\u001b[1;31mKeyError\u001b[0m                                  Traceback (most recent call last)",
      "\u001b[1;32m<ipython-input-13-f2b34bcb5c42>\u001b[0m in \u001b[0;36m<module>\u001b[1;34m()\u001b[0m\n\u001b[0;32m      4\u001b[0m \u001b[1;31m# get the dropped elements\u001b[0m\u001b[1;33m\u001b[0m\u001b[1;33m\u001b[0m\u001b[0m\n\u001b[0;32m      5\u001b[0m \u001b[1;32mfor\u001b[0m \u001b[0midx_p\u001b[0m\u001b[1;33m,\u001b[0m \u001b[0mpage\u001b[0m \u001b[1;32min\u001b[0m \u001b[0menumerate\u001b[0m\u001b[1;33m(\u001b[0m\u001b[0mpages\u001b[0m\u001b[1;33m)\u001b[0m\u001b[1;33m:\u001b[0m\u001b[1;33m\u001b[0m\u001b[0m\n\u001b[1;32m----> 6\u001b[1;33m     \u001b[1;32mif\u001b[0m \u001b[0mlen\u001b[0m\u001b[1;33m(\u001b[0m\u001b[0mnot_opened_elements_2\u001b[0m\u001b[1;33m[\u001b[0m\u001b[0midx_p\u001b[0m\u001b[1;33m]\u001b[0m\u001b[1;33m)\u001b[0m\u001b[1;33m==\u001b[0m\u001b[1;36m0\u001b[0m\u001b[1;33m:\u001b[0m\u001b[1;33m\u001b[0m\u001b[0m\n\u001b[0m\u001b[0;32m      7\u001b[0m         \u001b[1;32mcontinue\u001b[0m\u001b[1;33m\u001b[0m\u001b[0m\n\u001b[0;32m      8\u001b[0m     \u001b[0mpage\u001b[0m\u001b[1;33m.\u001b[0m\u001b[0mclick\u001b[0m\u001b[1;33m(\u001b[0m\u001b[1;33m)\u001b[0m\u001b[1;33m\u001b[0m\u001b[0m\n",
      "\u001b[1;31mKeyError\u001b[0m: 6"
     ]
    }
   ],
   "source": [
    "start_time = time.time()\n",
    "not_opened_elements = {}\n",
    "\n",
    "# get the dropped elements\n",
    "for idx_p, page in enumerate(pages):\n",
    "    if len(not_opened_elements_2[idx_p])==0:\n",
    "        continue\n",
    "    page.click()\n",
    "    noes = []\n",
    "    clickable_open_pages = browser.find_elements(\n",
    "        By.XPATH, \n",
    "        \"//div[@class='tab-content']/div[@class='tab-pane block active']/div[@class='dataTables_wrapper vue-table-wrapper']/div[@class='panel panel-default']/table[@class='table table-striped table-hover data-table vue-table']/tbody/tr[@class='clickable open-page']/td[1]\")\n",
    "\n",
    "    for idx, clickable_open_page in enumerate(clickable_open_pages):\n",
    "        if clickable_open_page.text in set(not_opened_elements_2[idx_p]):            \n",
    "            loc_df = get_cnvs_table(browser, clickable_open_page)\n",
    "            if type(loc_df)!=pd.core.frame.DataFrame:\n",
    "                print(clickable_open_page.text)\n",
    "                noes.append(clickable_open_page.text)\n",
    "            else:\n",
    "                loc_df = loc_df[loc_df.columns[:2]]\n",
    "                loc_df['Patient'] = int(clickable_open_page.text)\n",
    "                loc_df.columns = ['Location', 'class/mean_ratio', 'Patient']\n",
    "                locs.append(loc_df)\n",
    "#         break\n",
    "    not_opened_elements[idx_p] = noes\n",
    "#         break\n",
    "# print(len(dfs))\n",
    "consumed_time = time.strftime(\"%H:%M:%S\", time.gmtime(time.time()-start_time))\n",
    "print('Done within time %s.' % consumed_time)"
   ]
  },
  {
   "cell_type": "code",
   "execution_count": 14,
   "metadata": {},
   "outputs": [],
   "source": [
    "from selenium.common.exceptions import StaleElementReferenceException"
   ]
  },
  {
   "cell_type": "code",
   "execution_count": 49,
   "metadata": {},
   "outputs": [
    {
     "name": "stdout",
     "output_type": "stream",
     "text": [
      "(700, 6)\n"
     ]
    },
    {
     "data": {
      "text/plain": [
       "(722, 17)"
      ]
     },
     "execution_count": 49,
     "metadata": {},
     "output_type": "execute_result"
    }
   ],
   "source": [
    "# merge data\n",
    "df = pd.concat(dfs, sort=False, ignore_index=True)\n",
    "df_loc = pd.concat(locs, ignore_index=True, sort=False)\n",
    "df_loc['chromosome'] = df_loc.Location.apply(lambda x:f'chr{x.split(\":\")[0]}')\n",
    "df_loc['location_start'] = df_loc.Location.apply(lambda x:int(x.split(':')[1].split('-')[0]))\n",
    "df_loc['location_end'] = df_loc.Location.apply(lambda x:int(x.split(':')[1].split('-')[1]))\n",
    "print(df_loc.shape)\n",
    "# df_loc_new = pd.concat(new_locs, ignore_index=True, sort=False)\n",
    "# df_loc_new['chromosome'] = df_loc_new.Location.apply(lambda x:f'chr{x.split(\":\")[0]}')\n",
    "# df_loc_new['location_start'] = df_loc_new.Location.apply(lambda x:int(x.split(':')[1].split('-')[0]))\n",
    "# df_loc_new['location_end'] = df_loc_new.Location.apply(lambda x:int(x.split(':')[1].split('-')[1]))\n",
    "df_loc_finale = df_loc\n",
    "# df_loc_finale = pd.concat([df_loc, df_loc_new], ignore_index=True, sort=False)\n",
    "df_finale = df.merge(df_loc_finale, on='Patient')\n",
    "df_finale.shape"
   ]
  },
  {
   "cell_type": "code",
   "execution_count": 258,
   "metadata": {},
   "outputs": [
    {
     "data": {
      "text/plain": [
       "579"
      ]
     },
     "execution_count": 258,
     "metadata": {},
     "output_type": "execute_result"
    }
   ],
   "source": [
    "# check cell\n",
    "df_finale.loc[df_finale.Patient==396032][['Patient', 'Sex', 'Size', 'Overlap','chromosome','location_start','location_end']]\n",
    "df_finale.groupby('chromosome').agg({'Patient':['nunique', 'count']})\n",
    "set(df_finale.Patient.unique())-set(df_finale.loc[df_finale.chromosome=='chr22'].Patient.unique())\n",
    "len(set(df_finale.loc[df_finale.chromosome=='chr22'].Patient.unique()))\n",
    "# a = df_finale.groupby('Patient').agg({'chromosome':['unique', 'nunique', 'count']})\n",
    "# a.loc[('chr22' not in a[('chromosome','unique')].values)]\n",
    "# a[('chromosome','unique')].values"
   ]
  },
  {
   "cell_type": "markdown",
   "metadata": {},
   "source": [
    "# store data"
   ]
  },
  {
   "cell_type": "code",
   "execution_count": 43,
   "metadata": {},
   "outputs": [],
   "source": [
    "# df_finale.dropna(subset=['Pathogenicity / Contribution'], inplace=True)\n",
    "# df_finale = df_finale.loc[(df_finale.chromosome=='chr22')&\n",
    "#               (df_finale['class/mean_ratio'].apply(lambda x:re.search(r'Deletion+', x)!=None))&\n",
    "#               (df_finale['Pathogenicity / Contribution'].apply(lambda x:re.search(r'Pathogenic+', x)!=None))]"
   ]
  },
  {
   "cell_type": "code",
   "execution_count": 21,
   "metadata": {},
   "outputs": [
    {
     "name": "stdout",
     "output_type": "stream",
     "text": [
      "\\begin{tabular}{lll}\n",
      "\\toprule\n",
      "{} & location\\_start & location\\_end \\\\\n",
      "\\midrule\n",
      "count &          617.0 &        617.0 \\\\\n",
      "mean  &    18621292.79 &  22953644.64 \\\\\n",
      "std   &     2625773.51 &   3087755.29 \\\\\n",
      "min   &            1.0 &   18966490.0 \\\\\n",
      "25\\%   &     17925446.0 &   21440514.0 \\\\\n",
      "50\\%   &     18890162.0 &   21505387.0 \\\\\n",
      "75\\%   &     18919942.0 &   25975446.0 \\\\\n",
      "max   &     51168854.0 &   51208042.0 \\\\\n",
      "\\bottomrule\n",
      "\\end{tabular}\n",
      "\n"
     ]
    }
   ],
   "source": [
    "a = df_finale.loc[(df_finale.chromosome=='chr22')&\n",
    "                  (df_finale['class/mean_ratio'].apply(lambda x:re.search(r'Deletion+', x)!=None))\n",
    "                 ][['location_start', 'location_end']].describe()\n",
    "a.location_start = a.location_start.apply(lambda x:str(round(x,2)))\n",
    "a.location_end = a.location_end.apply(lambda x:str(round(x,2)))\n",
    "print(a.to_latex())"
   ]
  },
  {
   "cell_type": "code",
   "execution_count": 50,
   "metadata": {},
   "outputs": [],
   "source": [
    "target_chromosome = 'chr22'\n",
    "df_finale.loc[(df_finale.chromosome==target_chromosome)&\n",
    "              (df_finale['class/mean_ratio'].apply(lambda x:re.search(r'Deletion+', x)!=None))\n",
    "#               &(df_finale['Pathogenicity / Contribution'].apply(lambda x:re.search(r'Pathogenic+', x)!=None))\n",
    "              ][['Patient', 'chromosome', 'location_start', 'location_end', \n",
    "                 'Pathogenicity / Contribution', 'Sex', 'Size', 'Overlap', \n",
    "                 'Genes in common', 'Functional Similarity', 'Genotype / Class', \n",
    "                 'Inheritance', 'Phenotypes', 'class/mean_ratio']].to_csv(f'./data/spider_res-{target_chromosome}-deletion.csv', sep=',', index=False)"
   ]
  },
  {
   "cell_type": "code",
   "execution_count": 310,
   "metadata": {},
   "outputs": [],
   "source": [
    "df_finale.loc[(df_finale.chromosome=='chr22')&\n",
    "              (df_finale['class/mean_ratio'].apply(lambda x:re.search(r'Deletion+', x)!=None))&\n",
    "              (df_finale['Pathogenicity / Contribution'].apply(lambda x:re.search(r'Pathogenic+', x)!=None))\n",
    "             ][['Patient', 'chromosome', 'location_start', 'location_end', \n",
    "                'Pathogenicity / Contribution', 'Sex', 'Size', 'Overlap', \n",
    "                'Genes in common', 'Functional Similarity', 'Genotype / Class', \n",
    "                'Inheritance', 'Phenotypes', 'class/mean_ratio']].describe().to_csv('./data/description-v1.csv', sep=',')"
   ]
  },
  {
   "cell_type": "code",
   "execution_count": 296,
   "metadata": {},
   "outputs": [],
   "source": [
    "df_finale.to_csv('./data/spider_res-chr15.csv', sep=',', index=False)"
   ]
  },
  {
   "cell_type": "code",
   "execution_count": 224,
   "metadata": {},
   "outputs": [],
   "source": [
    "df_finale.to_pickle('./res_677.pkl')"
   ]
  },
  {
   "cell_type": "code",
   "execution_count": 129,
   "metadata": {},
   "outputs": [
    {
     "data": {
      "text/plain": [
       "Patient                           int64\n",
       "Unnamed: 1                      float64\n",
       "Sex                              object\n",
       "Size                             object\n",
       "Overlap                          object\n",
       "Genes in common                   int64\n",
       "Functional Similarity           float64\n",
       "Pathogenicity / Contribution     object\n",
       "Genotype / Class                 object\n",
       "Inheritance                      object\n",
       "Phenotypes                       object\n",
       "Unnamed: 11                     float64\n",
       "dtype: object"
      ]
     },
     "execution_count": 129,
     "metadata": {},
     "output_type": "execute_result"
    }
   ],
   "source": [
    "df_loc = pd.concat(locs, ignore_index=True, sort=False)\n",
    "df_loc['chromosome'] = df_loc.Location.apply(lambda x:f'chr{x.split(\":\")[0]}')\n",
    "df_loc['location_start'] = df_loc.Location.apply(lambda x:int(x.split(':')[1].split('-')[0]))\n",
    "df_loc['location_end'] = df_loc.Location.apply(lambda x:int(x.split(':')[1].split('-')[1]))\n",
    "# df_loc.dtypes\n",
    "dfs = []\n",
    "for page in pages:\n",
    "    # get table\n",
    "    try:\n",
    "        element = WebDriverWait(browser, 10).until(\n",
    "            EC.presence_of_element_located(\n",
    "                (By.XPATH, \"//table[@class='table table-striped table-hover data-table vue-table']\")\n",
    "            )\n",
    "        )\n",
    "    except TimeoutException:\n",
    "        print('Element not found')\n",
    "    else:    \n",
    "        target_table = browser.find_element(By.XPATH, \"//table[@class='table table-striped table-hover data-table vue-table']\")\n",
    "        # get table\n",
    "        df = pd.read_html(target_table.get_attribute('outerHTML'))[0]\n",
    "    break\n",
    "df.dtypes\n",
    "    "
   ]
  },
  {
   "cell_type": "code",
   "execution_count": 119,
   "metadata": {
    "scrolled": true
   },
   "outputs": [
    {
     "data": {
      "text/html": [
       "<div>\n",
       "<style scoped>\n",
       "    .dataframe tbody tr th:only-of-type {\n",
       "        vertical-align: middle;\n",
       "    }\n",
       "\n",
       "    .dataframe tbody tr th {\n",
       "        vertical-align: top;\n",
       "    }\n",
       "\n",
       "    .dataframe thead th {\n",
       "        text-align: right;\n",
       "    }\n",
       "</style>\n",
       "<table border=\"1\" class=\"dataframe\">\n",
       "  <thead>\n",
       "    <tr style=\"text-align: right;\">\n",
       "      <th></th>\n",
       "      <th>Location</th>\n",
       "      <th>class/mean_ratio</th>\n",
       "      <th>Patient</th>\n",
       "      <th>chromosome</th>\n",
       "      <th>location_start</th>\n",
       "      <th>location_end</th>\n",
       "    </tr>\n",
       "  </thead>\n",
       "  <tbody>\n",
       "    <tr>\n",
       "      <th>0</th>\n",
       "      <td>22:18919742-21440655</td>\n",
       "      <td>Deletion-0.89453</td>\n",
       "      <td>250577</td>\n",
       "      <td>chr22</td>\n",
       "      <td>18919742</td>\n",
       "      <td>21440655</td>\n",
       "    </tr>\n",
       "    <tr>\n",
       "      <th>0</th>\n",
       "      <td>22:18919942-21440514</td>\n",
       "      <td>Deletion-1</td>\n",
       "      <td>262079</td>\n",
       "      <td>chr22</td>\n",
       "      <td>18919942</td>\n",
       "      <td>21440514</td>\n",
       "    </tr>\n",
       "    <tr>\n",
       "      <th>0</th>\n",
       "      <td>22:18919742-21440655</td>\n",
       "      <td>Deletion-1</td>\n",
       "      <td>262934</td>\n",
       "      <td>chr22</td>\n",
       "      <td>18919742</td>\n",
       "      <td>21440655</td>\n",
       "    </tr>\n",
       "    <tr>\n",
       "      <th>0</th>\n",
       "      <td>22:18919942-21440514</td>\n",
       "      <td>Deletion-1</td>\n",
       "      <td>263156</td>\n",
       "      <td>chr22</td>\n",
       "      <td>18919942</td>\n",
       "      <td>21440514</td>\n",
       "    </tr>\n",
       "    <tr>\n",
       "      <th>0</th>\n",
       "      <td>16:6704616-6785666</td>\n",
       "      <td>Deletion-1</td>\n",
       "      <td>263159</td>\n",
       "      <td>chr16</td>\n",
       "      <td>6704616</td>\n",
       "      <td>6785666</td>\n",
       "    </tr>\n",
       "  </tbody>\n",
       "</table>\n",
       "</div>"
      ],
      "text/plain": [
       "               Location  class/mean_ratio  Patient chromosome  location_start  \\\n",
       "0  22:18919742-21440655  Deletion-0.89453   250577      chr22        18919742   \n",
       "0  22:18919942-21440514        Deletion-1   262079      chr22        18919942   \n",
       "0  22:18919742-21440655        Deletion-1   262934      chr22        18919742   \n",
       "0  22:18919942-21440514        Deletion-1   263156      chr22        18919942   \n",
       "0    16:6704616-6785666        Deletion-1   263159      chr16         6704616   \n",
       "\n",
       "   location_end  \n",
       "0      21440655  \n",
       "0      21440514  \n",
       "0      21440655  \n",
       "0      21440514  \n",
       "0       6785666  "
      ]
     },
     "execution_count": 119,
     "metadata": {},
     "output_type": "execute_result"
    }
   ],
   "source": [
    "# test \n",
    "a = pd.concat(locs)\n",
    "a.columns = ['Location', 'class/mean_ratio', 'Patient']\n",
    "a['chromosome'] = a.Location.apply(lambda x:f'chr{x.split(\":\")[0]}')\n",
    "a['location_start'] = a.Location.apply(lambda x:int(x.split(':')[1].split('-')[0]))\n",
    "a['location_end'] = a.Location.apply(lambda x:int(x.split(':')[1].split('-')[1]))\n",
    "# a[['Location', 'class/mean_ratio']]\n",
    "# a.columns\n",
    "a.head()"
   ]
  },
  {
   "cell_type": "markdown",
   "metadata": {},
   "source": [
    "# test cells"
   ]
  },
  {
   "cell_type": "code",
   "execution_count": 77,
   "metadata": {},
   "outputs": [],
   "source": [
    "# # test get_cnvs_table\n",
    "# clickable_open_page.click()\n",
    "# browser.switch_to.window(browser.window_handles[1])\n",
    "# xp = \"//table[@id='patient-cnvs-table']\"\n",
    "# try:\n",
    "#     element = WebDriverWait(browser, 100).until(\n",
    "#         EC.presence_of_element_located(\n",
    "#             (By.XPATH, \n",
    "#              xp\n",
    "#             ))\n",
    "#     )\n",
    "# finally:\n",
    "#     cnvs_table = browser.find_element(By.XPATH, xp)\n",
    "#     df_loc = pd.read_html(cnvs_table.get_attribute('outerHTML'))[0]\n",
    "# #         loc_s = browser.find_element(\n",
    "# #                     By.XPATH, \n",
    "# #                     \"//div[@class='position']/span[@class='start']\"\n",
    "# #                 ).text\n",
    "# #         loc_e = browser.find_element(\n",
    "# #                     By.XPATH, \n",
    "# #                     \"//div[@class='position']/span[@class='end']\"\n",
    "# #                 ).text\n",
    "\n",
    "# browser.close()\n",
    "browser.switch_to.window(parentWindow)"
   ]
  }
 ],
 "metadata": {
  "kernelspec": {
   "display_name": "Python 3",
   "language": "python",
   "name": "python3"
  },
  "language_info": {
   "codemirror_mode": {
    "name": "ipython",
    "version": 3
   },
   "file_extension": ".py",
   "mimetype": "text/x-python",
   "name": "python",
   "nbconvert_exporter": "python",
   "pygments_lexer": "ipython3",
   "version": "3.6.5"
  }
 },
 "nbformat": 4,
 "nbformat_minor": 2
}
