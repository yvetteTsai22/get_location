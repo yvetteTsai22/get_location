{
 "cells": [
  {
   "cell_type": "code",
   "execution_count": 65,
   "metadata": {},
   "outputs": [],
   "source": [
    "from selenium import webdriver\n",
    "from selenium.webdriver.common.by import By\n",
    "from selenium.webdriver.support.ui import WebDriverWait\n",
    "from selenium.webdriver.support import expected_conditions as EC\n",
    "import time\n",
    "import pandas as pd\n",
    "\n",
    "#使用chrome的webdriver\n",
    "browser = webdriver.Chrome()\n",
    "#開啟頁面\n",
    "browser.get('https://decipher.sanger.ac.uk/syndrome/16#genotype/cnv/21/patient-overlap/cnvs')\n",
    "#如果需要執行完自動關閉，就要加上下面這一行\n",
    "#browser.close()\n"
   ]
  },
  {
   "cell_type": "code",
   "execution_count": 77,
   "metadata": {},
   "outputs": [],
   "source": [
    "# # test get_cnvs_table\n",
    "# clickable_open_page.click()\n",
    "# browser.switch_to.window(browser.window_handles[1])\n",
    "# xp = \"//table[@id='patient-cnvs-table']\"\n",
    "# try:\n",
    "#     element = WebDriverWait(browser, 100).until(\n",
    "#         EC.presence_of_element_located(\n",
    "#             (By.XPATH, \n",
    "#              xp\n",
    "#             ))\n",
    "#     )\n",
    "# finally:\n",
    "#     cnvs_table = browser.find_element(By.XPATH, xp)\n",
    "#     df_loc = pd.read_html(cnvs_table.get_attribute('outerHTML'))[0]\n",
    "# #         loc_s = browser.find_element(\n",
    "# #                     By.XPATH, \n",
    "# #                     \"//div[@class='position']/span[@class='start']\"\n",
    "# #                 ).text\n",
    "# #         loc_e = browser.find_element(\n",
    "# #                     By.XPATH, \n",
    "# #                     \"//div[@class='position']/span[@class='end']\"\n",
    "# #                 ).text\n",
    "\n",
    "# browser.close()\n",
    "browser.switch_to.window(parentWindow)"
   ]
  },
  {
   "cell_type": "code",
   "execution_count": 99,
   "metadata": {},
   "outputs": [],
   "source": [
    "from selenium.common.exceptions import NoSuchElementException, TimeoutException"
   ]
  },
  {
   "cell_type": "code",
   "execution_count": 91,
   "metadata": {},
   "outputs": [],
   "source": [
    "browser.switch_to.window('CDwindow-9E456647928B779DBC8AA28D311E2E0E')"
   ]
  },
  {
   "cell_type": "code",
   "execution_count": 100,
   "metadata": {},
   "outputs": [
    {
     "name": "stdout",
     "output_type": "stream",
     "text": [
      "a\n"
     ]
    }
   ],
   "source": [
    "try:\n",
    "    element = WebDriverWait(browser, 2).until(\n",
    "    EC.presence_of_element_located(\n",
    "        (By.XPATH, \n",
    "         '//div[@class=\"teste\"]'\n",
    "        ))\n",
    "    )\n",
    "except TimeoutException:\n",
    "    print(\"a\")"
   ]
  },
  {
   "cell_type": "code",
   "execution_count": 133,
   "metadata": {},
   "outputs": [],
   "source": [
    "def get_cnvs_table(browser, clickable_open_page):\n",
    "    clickable_open_page.click()\n",
    "    browser.switch_to.window(browser.window_handles[1])\n",
    "    xp = \"//table[@id='patient-cnvs-table']\"\n",
    "    try:\n",
    "        element = WebDriverWait(browser, 5).until(\n",
    "            EC.presence_of_element_located(\n",
    "                (By.XPATH, \n",
    "                 xp\n",
    "                ))\n",
    "        )\n",
    "    except TimeoutException:\n",
    "#         print('Element not found')\n",
    "        browser.close()\n",
    "        browser.switch_to.window(parentWindow)\n",
    "        return\n",
    "    else:\n",
    "        cnvs_table = browser.find_element(By.XPATH, xp)\n",
    "        df = pd.read_html(cnvs_table.get_attribute('outerHTML'))[0]\n",
    "#         loc_s = browser.find_element(\n",
    "#                     By.XPATH, \n",
    "#                     \"//div[@class='position']/span[@class='start']\"\n",
    "#                 ).text\n",
    "#         loc_e = browser.find_element(\n",
    "#                     By.XPATH, \n",
    "#                     \"//div[@class='position']/span[@class='end']\"\n",
    "#                 ).text\n",
    "\n",
    "        browser.close()\n",
    "        browser.switch_to.window(parentWindow)\n",
    "        return df"
   ]
  },
  {
   "cell_type": "code",
   "execution_count": 67,
   "metadata": {},
   "outputs": [],
   "source": [
    "def get_location(browser, clickable_open_page):\n",
    "    \n",
    "    browser.switch_to.window(browser.window_handles[1])\n",
    "    try:\n",
    "        element = WebDriverWait(browser, 100).until(\n",
    "            EC.presence_of_element_located(\n",
    "                (By.XPATH, \n",
    "                 \"//div[@class='position']/span[@class='end']\"\n",
    "                ))\n",
    "        )\n",
    "    finally:\n",
    "#         pass\n",
    "#         browser.implicitly_wait(30)\n",
    "        loc_s = browser.find_element(\n",
    "                    By.XPATH, \n",
    "                    \"//div[@class='position']/span[@class='start']\"\n",
    "                ).text\n",
    "        loc_e = browser.find_element(\n",
    "                    By.XPATH, \n",
    "                    \"//div[@class='position']/span[@class='end']\"\n",
    "                ).text\n",
    "\n",
    "        browser.close()\n",
    "        browser.switch_to.window(parentWindow)\n",
    "        return (int(loc_s), int(loc_e))"
   ]
  },
  {
   "cell_type": "code",
   "execution_count": 68,
   "metadata": {},
   "outputs": [],
   "source": [
    "# close the prompt frame\n",
    "try:\n",
    "    element = WebDriverWait(browser, 10).until(\n",
    "        EC.presence_of_element_located(\n",
    "            (By.XPATH, \"//button[@class='close']\")\n",
    "        )\n",
    "    )\n",
    "finally:\n",
    "    a = browser.find_element(By.XPATH, \"//button[@class='close']\")\n",
    "    a.click()\n",
    "    \n",
    "# change to 100 a page\n",
    "try:\n",
    "    element = WebDriverWait(browser, 100).until(\n",
    "        EC.presence_of_element_located(\n",
    "            (By.XPATH, \n",
    "             \"//div[@class='tab-content']/div[@id='patient-overlap-21']/div[@class='nested']/div[@class='tab-content']/div[@class='tab-pane block active']/div[@class='dataTables_wrapper vue-table-wrapper']/div[@class='panel panel-default']/div[@class='panel-footer']/div[@class='row']/div[@class='col-xs-2']/div[@class='dataTables_length']/label/select[@class='form-control input-sm']\"\n",
    "            ))\n",
    "    )\n",
    "finally:\n",
    "    sampleNumList = browser.find_element(\n",
    "        By.XPATH,\n",
    "        \"//div[@class='tab-content']/div[@id='patient-overlap-21']/div[@class='nested']/div[@class='tab-content']/div[@class='tab-pane block active']/div[@class='dataTables_wrapper vue-table-wrapper']/div[@class='panel panel-default']/div[@class='panel-footer']/div[@class='row']/div[@class='col-xs-2']/div[@class='dataTables_length']/label/select[@class='form-control input-sm']\")\n",
    "    sampleNumList.send_keys(100)"
   ]
  },
  {
   "cell_type": "code",
   "execution_count": 214,
   "metadata": {},
   "outputs": [
    {
     "name": "stdout",
     "output_type": "stream",
     "text": [
      "275001\n",
      "275011\n",
      "293121\n",
      "331301\n",
      "270862\n",
      "271757\n",
      "276235\n",
      "253469\n",
      "250177\n",
      "282618\n",
      "285197\n",
      "331317\n",
      "273941\n",
      "395916\n",
      "394889\n",
      "357693\n",
      "339286\n",
      "340049\n",
      "251336\n",
      "257105\n",
      "395103\n",
      "395109\n",
      "395380\n",
      "396780\n",
      "396824\n",
      "397156\n",
      "397159\n",
      "397161\n",
      "397205\n",
      "397206\n",
      "398028\n",
      "398036\n",
      "273627\n",
      "262959\n",
      "395991\n",
      "399109\n",
      "249397\n",
      "351893\n",
      "Done within time 00:26:09.\n"
     ]
    }
   ],
   "source": [
    "start_time = time.time()\n",
    "global parentWindow\n",
    "parentWindow = browser.window_handles[0]\n",
    "# turn to the next page\n",
    "xp = \"//div[@class='tab-content']/div[@class='tab-pane block active']/div[@class='dataTables_wrapper vue-table-wrapper']/div[@class='panel panel-default']/div[@class='panel-footer']/div[@class='row']/div[@class='col-xs-8 text-center']/div[@class='dataTables_paginate paging_simple_numbers']/ul[@class='pagination']/li/a\"\n",
    "try:\n",
    "    element = WebDriverWait(browser, 10).until(\n",
    "        EC.presence_of_element_located(\n",
    "            (By.XPATH, xp)\n",
    "        )\n",
    "    )\n",
    "finally:    \n",
    "    pages = browser.find_elements(By.XPATH, xp)[1:-1]\n",
    "\n",
    "locs, dfs = [], []\n",
    "not_opened_elements = {}\n",
    "for idx_p, page in enumerate(pages):\n",
    "    page.click()\n",
    "    noes = []\n",
    "    # get table\n",
    "    try:\n",
    "        element = WebDriverWait(browser, 10).until(\n",
    "            EC.presence_of_element_located(\n",
    "                (By.XPATH, \"//table[@class='table table-striped table-hover data-table vue-table']\")\n",
    "            )\n",
    "        )\n",
    "    finally:    \n",
    "        target_table = browser.find_element(By.XPATH, \"//table[@class='table table-striped table-hover data-table vue-table']\")\n",
    "        # get table\n",
    "        df = pd.read_html(target_table.get_attribute('outerHTML'))[0]\n",
    "        dfs.append(df)\n",
    "    clickable_open_pages = browser.find_elements(\n",
    "        By.XPATH, \n",
    "        \"//div[@class='tab-content']/div[@class='tab-pane block active']/div[@class='dataTables_wrapper vue-table-wrapper']/div[@class='panel panel-default']/table[@class='table table-striped table-hover data-table vue-table']/tbody/tr[@class='clickable open-page']/td[1]\")\n",
    "\n",
    "    for idx, clickable_open_page in enumerate(clickable_open_pages):\n",
    "        loc_df = get_cnvs_table(browser, clickable_open_page)\n",
    "        if type(loc_df)!=pd.core.frame.DataFrame:\n",
    "            print(clickable_open_page.text)\n",
    "            noes.append(clickable_open_page.text)\n",
    "        else:\n",
    "            loc_df = loc_df[loc_df.columns[:2]]\n",
    "            loc_df['Patient'] = int(clickable_open_page.text)\n",
    "            loc_df.columns = ['Location', 'class/mean_ratio', 'Patient']\n",
    "            locs.append(loc_df)\n",
    "#         break\n",
    "    not_opened_elements[idx_p] = noes\n",
    "#         break\n",
    "# print(len(dfs))\n",
    "consumed_time = time.strftime(\"%H:%M:%S\", time.gmtime(time.time()-start_time))\n",
    "print('Done within time %s.' % consumed_time)"
   ]
  },
  {
   "cell_type": "code",
   "execution_count": 227,
   "metadata": {},
   "outputs": [
    {
     "data": {
      "text/plain": [
       "['399109', '249397', '351893']"
      ]
     },
     "execution_count": 227,
     "metadata": {},
     "output_type": "execute_result"
    }
   ],
   "source": [
    "not_opened_elements[idx_p]"
   ]
  },
  {
   "cell_type": "code",
   "execution_count": 228,
   "metadata": {},
   "outputs": [],
   "source": [
    "loc_original = locs"
   ]
  },
  {
   "cell_type": "code",
   "execution_count": 232,
   "metadata": {},
   "outputs": [
    {
     "name": "stdout",
     "output_type": "stream",
     "text": [
      "Done within time 00:00:07.\n"
     ]
    }
   ],
   "source": [
    "start_time = time.time()\n",
    "not_opened_elements_3 = {}\n",
    "\n",
    "# get the dropped elements\n",
    "for idx_p, page in enumerate(pages):\n",
    "    if len(not_opened_elements_2[idx_p])==0:\n",
    "        continue\n",
    "    page.click()\n",
    "    noes = []\n",
    "    clickable_open_pages = browser.find_elements(\n",
    "        By.XPATH, \n",
    "        \"//div[@class='tab-content']/div[@class='tab-pane block active']/div[@class='dataTables_wrapper vue-table-wrapper']/div[@class='panel panel-default']/table[@class='table table-striped table-hover data-table vue-table']/tbody/tr[@class='clickable open-page']/td[1]\")\n",
    "\n",
    "    for idx, clickable_open_page in enumerate(clickable_open_pages):\n",
    "        if clickable_open_page.text in set(not_opened_elements_2[idx_p]):            \n",
    "            loc_df = get_cnvs_table(browser, clickable_open_page)\n",
    "            if type(loc_df)!=pd.core.frame.DataFrame:\n",
    "                print(clickable_open_page.text)\n",
    "                noes.append(clickable_open_page.text)\n",
    "            else:\n",
    "                loc_df = loc_df[loc_df.columns[:2]]\n",
    "                loc_df['Patient'] = int(clickable_open_page.text)\n",
    "                loc_df.columns = ['Location', 'class/mean_ratio', 'Patient']\n",
    "                locs.append(loc_df)\n",
    "#         break\n",
    "    not_opened_elements_2[idx_p] = noes\n",
    "#         break\n",
    "# print(len(dfs))\n",
    "consumed_time = time.strftime(\"%H:%M:%S\", time.gmtime(time.time()-start_time))\n",
    "print('Done within time %s.' % consumed_time)"
   ]
  },
  {
   "cell_type": "code",
   "execution_count": 307,
   "metadata": {},
   "outputs": [
    {
     "data": {
      "text/plain": [
       "(100, 12)"
      ]
     },
     "execution_count": 307,
     "metadata": {},
     "output_type": "execute_result"
    }
   ],
   "source": [
    "dfs[4].shape"
   ]
  },
  {
   "cell_type": "code",
   "execution_count": 304,
   "metadata": {},
   "outputs": [
    {
     "ename": "NoSuchElementException",
     "evalue": "Message: no such element: Unable to locate element: {\"method\":\"xpath\",\"selector\":\"//table[@class='table table-striped table-hover data-table vue-tabl1e']\"}\n  (Session info: chrome=77.0.3865.120)\n  (Driver info: chromedriver=2.38.552522 (437e6fbedfa8762dec75e2c5b3ddb86763dc9dcb),platform=Windows NT 10.0.18362 x86_64)\n",
     "output_type": "error",
     "traceback": [
      "\u001b[1;31m---------------------------------------------------------------------------\u001b[0m",
      "\u001b[1;31mNoSuchElementException\u001b[0m                    Traceback (most recent call last)",
      "\u001b[1;32m<ipython-input-304-39614ab69eef>\u001b[0m in \u001b[0;36m<module>\u001b[1;34m()\u001b[0m\n\u001b[0;32m      4\u001b[0m \u001b[1;31m# len(not_opened_elements[6])\u001b[0m\u001b[1;33m\u001b[0m\u001b[1;33m\u001b[0m\u001b[0m\n\u001b[0;32m      5\u001b[0m \u001b[1;31m# not_opened_elements_2\u001b[0m\u001b[1;33m\u001b[0m\u001b[1;33m\u001b[0m\u001b[0m\n\u001b[1;32m----> 6\u001b[1;33m \u001b[0mbrowser\u001b[0m\u001b[1;33m.\u001b[0m\u001b[0mfind_element\u001b[0m\u001b[1;33m(\u001b[0m\u001b[0mBy\u001b[0m\u001b[1;33m.\u001b[0m\u001b[0mXPATH\u001b[0m\u001b[1;33m,\u001b[0m \u001b[1;34m\"//table[@class='table table-striped table-hover data-table vue-tabl1e']\"\u001b[0m\u001b[1;33m)\u001b[0m\u001b[1;33m\u001b[0m\u001b[0m\n\u001b[0m",
      "\u001b[1;32m~\\AppData\\Roaming\\Python\\Python36\\site-packages\\selenium\\webdriver\\remote\\webdriver.py\u001b[0m in \u001b[0;36mfind_element\u001b[1;34m(self, by, value)\u001b[0m\n\u001b[0;32m    976\u001b[0m         return self.execute(Command.FIND_ELEMENT, {\n\u001b[0;32m    977\u001b[0m             \u001b[1;34m'using'\u001b[0m\u001b[1;33m:\u001b[0m \u001b[0mby\u001b[0m\u001b[1;33m,\u001b[0m\u001b[1;33m\u001b[0m\u001b[0m\n\u001b[1;32m--> 978\u001b[1;33m             'value': value})['value']\n\u001b[0m\u001b[0;32m    979\u001b[0m \u001b[1;33m\u001b[0m\u001b[0m\n\u001b[0;32m    980\u001b[0m     \u001b[1;32mdef\u001b[0m \u001b[0mfind_elements\u001b[0m\u001b[1;33m(\u001b[0m\u001b[0mself\u001b[0m\u001b[1;33m,\u001b[0m \u001b[0mby\u001b[0m\u001b[1;33m=\u001b[0m\u001b[0mBy\u001b[0m\u001b[1;33m.\u001b[0m\u001b[0mID\u001b[0m\u001b[1;33m,\u001b[0m \u001b[0mvalue\u001b[0m\u001b[1;33m=\u001b[0m\u001b[1;32mNone\u001b[0m\u001b[1;33m)\u001b[0m\u001b[1;33m:\u001b[0m\u001b[1;33m\u001b[0m\u001b[0m\n",
      "\u001b[1;32m~\\AppData\\Roaming\\Python\\Python36\\site-packages\\selenium\\webdriver\\remote\\webdriver.py\u001b[0m in \u001b[0;36mexecute\u001b[1;34m(self, driver_command, params)\u001b[0m\n\u001b[0;32m    319\u001b[0m         \u001b[0mresponse\u001b[0m \u001b[1;33m=\u001b[0m \u001b[0mself\u001b[0m\u001b[1;33m.\u001b[0m\u001b[0mcommand_executor\u001b[0m\u001b[1;33m.\u001b[0m\u001b[0mexecute\u001b[0m\u001b[1;33m(\u001b[0m\u001b[0mdriver_command\u001b[0m\u001b[1;33m,\u001b[0m \u001b[0mparams\u001b[0m\u001b[1;33m)\u001b[0m\u001b[1;33m\u001b[0m\u001b[0m\n\u001b[0;32m    320\u001b[0m         \u001b[1;32mif\u001b[0m \u001b[0mresponse\u001b[0m\u001b[1;33m:\u001b[0m\u001b[1;33m\u001b[0m\u001b[0m\n\u001b[1;32m--> 321\u001b[1;33m             \u001b[0mself\u001b[0m\u001b[1;33m.\u001b[0m\u001b[0merror_handler\u001b[0m\u001b[1;33m.\u001b[0m\u001b[0mcheck_response\u001b[0m\u001b[1;33m(\u001b[0m\u001b[0mresponse\u001b[0m\u001b[1;33m)\u001b[0m\u001b[1;33m\u001b[0m\u001b[0m\n\u001b[0m\u001b[0;32m    322\u001b[0m             response['value'] = self._unwrap_value(\n\u001b[0;32m    323\u001b[0m                 response.get('value', None))\n",
      "\u001b[1;32m~\\AppData\\Roaming\\Python\\Python36\\site-packages\\selenium\\webdriver\\remote\\errorhandler.py\u001b[0m in \u001b[0;36mcheck_response\u001b[1;34m(self, response)\u001b[0m\n\u001b[0;32m    240\u001b[0m                 \u001b[0malert_text\u001b[0m \u001b[1;33m=\u001b[0m \u001b[0mvalue\u001b[0m\u001b[1;33m[\u001b[0m\u001b[1;34m'alert'\u001b[0m\u001b[1;33m]\u001b[0m\u001b[1;33m.\u001b[0m\u001b[0mget\u001b[0m\u001b[1;33m(\u001b[0m\u001b[1;34m'text'\u001b[0m\u001b[1;33m)\u001b[0m\u001b[1;33m\u001b[0m\u001b[0m\n\u001b[0;32m    241\u001b[0m             \u001b[1;32mraise\u001b[0m \u001b[0mexception_class\u001b[0m\u001b[1;33m(\u001b[0m\u001b[0mmessage\u001b[0m\u001b[1;33m,\u001b[0m \u001b[0mscreen\u001b[0m\u001b[1;33m,\u001b[0m \u001b[0mstacktrace\u001b[0m\u001b[1;33m,\u001b[0m \u001b[0malert_text\u001b[0m\u001b[1;33m)\u001b[0m\u001b[1;33m\u001b[0m\u001b[0m\n\u001b[1;32m--> 242\u001b[1;33m         \u001b[1;32mraise\u001b[0m \u001b[0mexception_class\u001b[0m\u001b[1;33m(\u001b[0m\u001b[0mmessage\u001b[0m\u001b[1;33m,\u001b[0m \u001b[0mscreen\u001b[0m\u001b[1;33m,\u001b[0m \u001b[0mstacktrace\u001b[0m\u001b[1;33m)\u001b[0m\u001b[1;33m\u001b[0m\u001b[0m\n\u001b[0m\u001b[0;32m    243\u001b[0m \u001b[1;33m\u001b[0m\u001b[0m\n\u001b[0;32m    244\u001b[0m     \u001b[1;32mdef\u001b[0m \u001b[0m_value_or_default\u001b[0m\u001b[1;33m(\u001b[0m\u001b[0mself\u001b[0m\u001b[1;33m,\u001b[0m \u001b[0mobj\u001b[0m\u001b[1;33m,\u001b[0m \u001b[0mkey\u001b[0m\u001b[1;33m,\u001b[0m \u001b[0mdefault\u001b[0m\u001b[1;33m)\u001b[0m\u001b[1;33m:\u001b[0m\u001b[1;33m\u001b[0m\u001b[0m\n",
      "\u001b[1;31mNoSuchElementException\u001b[0m: Message: no such element: Unable to locate element: {\"method\":\"xpath\",\"selector\":\"//table[@class='table table-striped table-hover data-table vue-tabl1e']\"}\n  (Session info: chrome=77.0.3865.120)\n  (Driver info: chromedriver=2.38.552522 (437e6fbedfa8762dec75e2c5b3ddb86763dc9dcb),platform=Windows NT 10.0.18362 x86_64)\n"
     ]
    }
   ],
   "source": [
    "# len(not_opened_element)\n",
    "# len([280849,290047,290180,293121,303619,332406,267553,271877,276670,288268,273941,324141,300629,304604,332728,292353,395286,\n",
    "#  395293,395304,396104,396116,396780,397388,397402,398063,398439,399099,279514])\n",
    "# len(not_opened_elements[6])\n",
    "# not_opened_elements_2\n",
    "browser.find_element(By.XPATH, \"//table[@class='table table-striped table-hover data-table vue-tabl1e']\")"
   ]
  },
  {
   "cell_type": "code",
   "execution_count": 153,
   "metadata": {},
   "outputs": [],
   "source": [
    "from selenium.common.exceptions import StaleElementReferenceException"
   ]
  },
  {
   "cell_type": "code",
   "execution_count": 157,
   "metadata": {},
   "outputs": [
    {
     "data": {
      "text/plain": [
       "<selenium.webdriver.remote.webelement.WebElement (session=\"9395e3ad20513b29b1554be12fb43154\", element=\"0.4396564919073098-5\")>"
      ]
     },
     "execution_count": 157,
     "metadata": {},
     "output_type": "execute_result"
    }
   ],
   "source": [
    "pages[1]"
   ]
  },
  {
   "cell_type": "code",
   "execution_count": 179,
   "metadata": {},
   "outputs": [
    {
     "name": "stdout",
     "output_type": "stream",
     "text": [
      "a\n"
     ]
    }
   ],
   "source": [
    "if clickable_open_page in not_opened_element[4:]:\n",
    "    print('a')"
   ]
  },
  {
   "cell_type": "code",
   "execution_count": 183,
   "metadata": {},
   "outputs": [],
   "source": [
    "not_opened_element[3].click()"
   ]
  },
  {
   "cell_type": "code",
   "execution_count": 186,
   "metadata": {
    "scrolled": false
   },
   "outputs": [],
   "source": [
    "pe = {\n",
    "    0:(0,5),\n",
    "    1:(5,10),\n",
    "    2:(10, 16),\n",
    "    3:(16,22),\n",
    "    4:(22, 26),\n",
    "    5:(26,28)\n",
    "}\n",
    "new_locs = []\n",
    "pi = 1\n",
    "for clickable_open_page in not_opened_element:\n",
    "    try:\n",
    "        clickable_open_page.click()\n",
    "        browser.switch_to.window(browser.window_handles[1])\n",
    "        browser.close()\n",
    "        browser.switch_to.window(browser.window_handles[0])\n",
    "    except StaleElementReferenceException:\n",
    "        if pi==5:\n",
    "            continue\n",
    "        else:\n",
    "            pages[pi].click()\n",
    "            pi = pi+1\n",
    "#         print(clickable_open_page.text)\n",
    "        continue\n",
    "    else:\n",
    "        loc_df = get_cnvs_table(browser, clickable_open_page)\n",
    "        if type(loc_df)!=pd.core.frame.DataFrame:\n",
    "            print(clickable_open_page.text)\n",
    "    #             not_opened_element.append(clickable_open_page)\n",
    "        else:\n",
    "            loc_df = loc_df[loc_df.columns[:2]]\n",
    "            loc_df['Patient'] = int(clickable_open_page.text)\n",
    "            loc_df.columns = ['Location', 'class/mean_ratio', 'Patient']\n",
    "            new_locs.append(loc_df)    \n"
   ]
  },
  {
   "cell_type": "code",
   "execution_count": 187,
   "metadata": {},
   "outputs": [
    {
     "data": {
      "text/plain": [
       "21"
      ]
     },
     "execution_count": 187,
     "metadata": {},
     "output_type": "execute_result"
    }
   ],
   "source": []
  },
  {
   "cell_type": "code",
   "execution_count": 289,
   "metadata": {},
   "outputs": [
    {
     "data": {
      "text/plain": [
       "<_sre.SRE_Match object; span=(0, 8), match='Deletion'>"
      ]
     },
     "execution_count": 289,
     "metadata": {},
     "output_type": "execute_result"
    }
   ],
   "source": [
    "# import re\n",
    "# if not re.search(r'Deletion+/.', 'Deletion-0.89453'):\n",
    "#     print('Yes')\n",
    "# else:\n",
    "#     print('No')\n",
    "re.search(r'Deletion+', 'Deletiondce1wf')"
   ]
  },
  {
   "cell_type": "code",
   "execution_count": 279,
   "metadata": {
    "collapsed": true
   },
   "outputs": [
    {
     "data": {
      "text/plain": [
       "0      True\n",
       "1      True\n",
       "2      True\n",
       "3      True\n",
       "4      True\n",
       "5      True\n",
       "6      True\n",
       "7      True\n",
       "8      True\n",
       "9      True\n",
       "10     True\n",
       "11     True\n",
       "12     True\n",
       "13     True\n",
       "14     True\n",
       "15     True\n",
       "16     True\n",
       "17     True\n",
       "18     True\n",
       "19     True\n",
       "20     True\n",
       "21     True\n",
       "22     True\n",
       "23     True\n",
       "24     True\n",
       "25     True\n",
       "26     True\n",
       "27     True\n",
       "28     True\n",
       "29     True\n",
       "       ... \n",
       "689    True\n",
       "690    True\n",
       "691    True\n",
       "692    True\n",
       "693    True\n",
       "694    True\n",
       "695    True\n",
       "696    True\n",
       "697    True\n",
       "698    True\n",
       "699    True\n",
       "700    True\n",
       "701    True\n",
       "702    True\n",
       "703    True\n",
       "704    True\n",
       "705    True\n",
       "706    True\n",
       "707    True\n",
       "708    True\n",
       "709    True\n",
       "710    True\n",
       "711    True\n",
       "712    True\n",
       "713    True\n",
       "714    True\n",
       "715    True\n",
       "716    True\n",
       "717    True\n",
       "718    True\n",
       "Name: class/mean_ratio, Length: 719, dtype: bool"
      ]
     },
     "execution_count": 279,
     "metadata": {},
     "output_type": "execute_result"
    }
   ],
   "source": [
    "df_finale['class/mean_ratio'].apply(lambda x:re.search(r'Deletion+/.', x)==None)"
   ]
  },
  {
   "cell_type": "code",
   "execution_count": 291,
   "metadata": {},
   "outputs": [
    {
     "data": {
      "text/plain": [
       "(615, 17)"
      ]
     },
     "execution_count": 291,
     "metadata": {},
     "output_type": "execute_result"
    }
   ],
   "source": [
    "# get the rest samples\n",
    "# for \n",
    "# len(not_opened_element)\n",
    "df_loc\n",
    "df.Patient.nunique()\n",
    "df.shape\n",
    "df_finale.loc[(df_finale.chromosome=='chr22')&(df_finale['class/mean_ratio'].apply(lambda x:re.search(r'Deletion+', x)!=None))].shape"
   ]
  },
  {
   "cell_type": "code",
   "execution_count": 233,
   "metadata": {},
   "outputs": [
    {
     "data": {
      "text/plain": [
       "(719, 17)"
      ]
     },
     "execution_count": 233,
     "metadata": {},
     "output_type": "execute_result"
    }
   ],
   "source": [
    "# merge data\n",
    "df = pd.concat(dfs, sort=False, ignore_index=True)\n",
    "df_loc = pd.concat(locs, ignore_index=True, sort=False)\n",
    "df_loc['chromosome'] = df_loc.Location.apply(lambda x:f'chr{x.split(\":\")[0]}')\n",
    "df_loc['location_start'] = df_loc.Location.apply(lambda x:int(x.split(':')[1].split('-')[0]))\n",
    "df_loc['location_end'] = df_loc.Location.apply(lambda x:int(x.split(':')[1].split('-')[1]))\n",
    "# df_loc_new = pd.concat(new_locs, ignore_index=True, sort=False)\n",
    "# df_loc_new['chromosome'] = df_loc_new.Location.apply(lambda x:f'chr{x.split(\":\")[0]}')\n",
    "# df_loc_new['location_start'] = df_loc_new.Location.apply(lambda x:int(x.split(':')[1].split('-')[0]))\n",
    "# df_loc_new['location_end'] = df_loc_new.Location.apply(lambda x:int(x.split(':')[1].split('-')[1]))\n",
    "df_loc_finale = df_loc\n",
    "# df_loc_finale = pd.concat([df_loc, df_loc_new], ignore_index=True, sort=False)\n",
    "df_finale = df.merge(df_loc_finale, on='Patient')\n",
    "df_finale.shape"
   ]
  },
  {
   "cell_type": "code",
   "execution_count": 258,
   "metadata": {},
   "outputs": [
    {
     "data": {
      "text/plain": [
       "579"
      ]
     },
     "execution_count": 258,
     "metadata": {},
     "output_type": "execute_result"
    }
   ],
   "source": [
    "# check cell\n",
    "df_finale.loc[df_finale.Patient==396032][['Patient', 'Sex', 'Size', 'Overlap','chromosome','location_start','location_end']]\n",
    "df_finale.groupby('chromosome').agg({'Patient':['nunique', 'count']})\n",
    "set(df_finale.Patient.unique())-set(df_finale.loc[df_finale.chromosome=='chr22'].Patient.unique())\n",
    "len(set(df_finale.loc[df_finale.chromosome=='chr22'].Patient.unique()))\n",
    "# a = df_finale.groupby('Patient').agg({'chromosome':['unique', 'nunique', 'count']})\n",
    "# a.loc[('chr22' not in a[('chromosome','unique')].values)]\n",
    "# a[('chromosome','unique')].values"
   ]
  },
  {
   "cell_type": "code",
   "execution_count": 247,
   "metadata": {},
   "outputs": [
    {
     "data": {
      "text/plain": [
       "(599, 17)"
      ]
     },
     "execution_count": 247,
     "metadata": {},
     "output_type": "execute_result"
    }
   ],
   "source": [
    "a = df_finale.drop_duplicates()\n",
    "a = a.loc[a.chromosome=='chr22']\n",
    "a.groupby('Patient').agg({'chromosome'})"
   ]
  },
  {
   "cell_type": "code",
   "execution_count": 302,
   "metadata": {},
   "outputs": [
    {
     "data": {
      "text/plain": [
       "(719, 17)"
      ]
     },
     "execution_count": 302,
     "metadata": {},
     "output_type": "execute_result"
    }
   ],
   "source": [
    "df_finale.shape"
   ]
  },
  {
   "cell_type": "code",
   "execution_count": 301,
   "metadata": {},
   "outputs": [],
   "source": [
    "df_finale.loc[df_finale.chromosome=='chr22'][['Patient', 'chromosome', 'location_start',\n",
    "       'location_end', 'Sex', 'Size', 'Overlap', 'Genes in common',\n",
    "       'Functional Similarity', 'Genotype / Class', 'Inheritance', \n",
    "           'Phenotypes', 'class/mean_ratio']].describe().to_csv('./data/description-v1.csv', sep=',')"
   ]
  },
  {
   "cell_type": "code",
   "execution_count": 296,
   "metadata": {},
   "outputs": [],
   "source": [
    "df_finale.to_csv('./data/spider_res-v1.csv', sep=',', index=False)"
   ]
  },
  {
   "cell_type": "code",
   "execution_count": 224,
   "metadata": {},
   "outputs": [],
   "source": [
    "df_finale.to_pickle('./res_677.pkl')"
   ]
  },
  {
   "cell_type": "code",
   "execution_count": 201,
   "metadata": {
    "scrolled": false
   },
   "outputs": [
    {
     "data": {
      "text/plain": [
       "557"
      ]
     },
     "execution_count": 201,
     "metadata": {},
     "output_type": "execute_result"
    }
   ],
   "source": [
    "# df_finale.loc[df_finale.chromosome=='chr22'].shape\n",
    "# df_finale.head()\n",
    "s1 = set([280849,290047,290180,293121,303619,332406,267553,271877,276670,288268,273941,324141,300629,304604,332728,292353,395286,\n",
    " 395293,395304,396104,396116,396780,397388,397402,398063,398439,399099,279514])\n",
    "s2 = set(df_finale.Patient.unique())\n",
    "len(s2)\n",
    "# s2"
   ]
  },
  {
   "cell_type": "code",
   "execution_count": 212,
   "metadata": {},
   "outputs": [
    {
     "name": "stdout",
     "output_type": "stream",
     "text": [
      "[False, False, False, False, True, False, False, False, False, False, True, False, False, False, False, False, True, False, False, True, False, False, False, False, True, True, False, False]\n"
     ]
    }
   ],
   "source": [
    "print([i in df_loc_new.Patient.unique() for i in s1])\n"
   ]
  },
  {
   "cell_type": "code",
   "execution_count": 129,
   "metadata": {},
   "outputs": [
    {
     "data": {
      "text/plain": [
       "Patient                           int64\n",
       "Unnamed: 1                      float64\n",
       "Sex                              object\n",
       "Size                             object\n",
       "Overlap                          object\n",
       "Genes in common                   int64\n",
       "Functional Similarity           float64\n",
       "Pathogenicity / Contribution     object\n",
       "Genotype / Class                 object\n",
       "Inheritance                      object\n",
       "Phenotypes                       object\n",
       "Unnamed: 11                     float64\n",
       "dtype: object"
      ]
     },
     "execution_count": 129,
     "metadata": {},
     "output_type": "execute_result"
    }
   ],
   "source": [
    "df_loc = pd.concat(locs, ignore_index=True, sort=False)\n",
    "df_loc['chromosome'] = df_loc.Location.apply(lambda x:f'chr{x.split(\":\")[0]}')\n",
    "df_loc['location_start'] = df_loc.Location.apply(lambda x:int(x.split(':')[1].split('-')[0]))\n",
    "df_loc['location_end'] = df_loc.Location.apply(lambda x:int(x.split(':')[1].split('-')[1]))\n",
    "# df_loc.dtypes\n",
    "dfs = []\n",
    "for page in pages:\n",
    "    # get table\n",
    "    try:\n",
    "        element = WebDriverWait(browser, 10).until(\n",
    "            EC.presence_of_element_located(\n",
    "                (By.XPATH, \"//table[@class='table table-striped table-hover data-table vue-table']\")\n",
    "            )\n",
    "        )\n",
    "    except TimeoutException:\n",
    "        print('Element not found')\n",
    "    else:    \n",
    "        target_table = browser.find_element(By.XPATH, \"//table[@class='table table-striped table-hover data-table vue-table']\")\n",
    "        # get table\n",
    "        df = pd.read_html(target_table.get_attribute('outerHTML'))[0]\n",
    "    break\n",
    "df.dtypes\n",
    "    "
   ]
  },
  {
   "cell_type": "code",
   "execution_count": 123,
   "metadata": {},
   "outputs": [
    {
     "data": {
      "text/plain": [
       "568"
      ]
     },
     "execution_count": 123,
     "metadata": {},
     "output_type": "execute_result"
    }
   ],
   "source": [
    "# concat loc_df\n",
    "len(locs)"
   ]
  },
  {
   "cell_type": "code",
   "execution_count": 119,
   "metadata": {},
   "outputs": [
    {
     "data": {
      "text/html": [
       "<div>\n",
       "<style scoped>\n",
       "    .dataframe tbody tr th:only-of-type {\n",
       "        vertical-align: middle;\n",
       "    }\n",
       "\n",
       "    .dataframe tbody tr th {\n",
       "        vertical-align: top;\n",
       "    }\n",
       "\n",
       "    .dataframe thead th {\n",
       "        text-align: right;\n",
       "    }\n",
       "</style>\n",
       "<table border=\"1\" class=\"dataframe\">\n",
       "  <thead>\n",
       "    <tr style=\"text-align: right;\">\n",
       "      <th></th>\n",
       "      <th>Location</th>\n",
       "      <th>class/mean_ratio</th>\n",
       "      <th>Patient</th>\n",
       "      <th>chromosome</th>\n",
       "      <th>location_start</th>\n",
       "      <th>location_end</th>\n",
       "    </tr>\n",
       "  </thead>\n",
       "  <tbody>\n",
       "    <tr>\n",
       "      <th>0</th>\n",
       "      <td>22:18919742-21440655</td>\n",
       "      <td>Deletion-0.89453</td>\n",
       "      <td>250577</td>\n",
       "      <td>chr22</td>\n",
       "      <td>18919742</td>\n",
       "      <td>21440655</td>\n",
       "    </tr>\n",
       "    <tr>\n",
       "      <th>0</th>\n",
       "      <td>22:18919942-21440514</td>\n",
       "      <td>Deletion-1</td>\n",
       "      <td>262079</td>\n",
       "      <td>chr22</td>\n",
       "      <td>18919942</td>\n",
       "      <td>21440514</td>\n",
       "    </tr>\n",
       "    <tr>\n",
       "      <th>0</th>\n",
       "      <td>22:18919742-21440655</td>\n",
       "      <td>Deletion-1</td>\n",
       "      <td>262934</td>\n",
       "      <td>chr22</td>\n",
       "      <td>18919742</td>\n",
       "      <td>21440655</td>\n",
       "    </tr>\n",
       "    <tr>\n",
       "      <th>0</th>\n",
       "      <td>22:18919942-21440514</td>\n",
       "      <td>Deletion-1</td>\n",
       "      <td>263156</td>\n",
       "      <td>chr22</td>\n",
       "      <td>18919942</td>\n",
       "      <td>21440514</td>\n",
       "    </tr>\n",
       "    <tr>\n",
       "      <th>0</th>\n",
       "      <td>16:6704616-6785666</td>\n",
       "      <td>Deletion-1</td>\n",
       "      <td>263159</td>\n",
       "      <td>chr16</td>\n",
       "      <td>6704616</td>\n",
       "      <td>6785666</td>\n",
       "    </tr>\n",
       "  </tbody>\n",
       "</table>\n",
       "</div>"
      ],
      "text/plain": [
       "               Location  class/mean_ratio  Patient chromosome  location_start  \\\n",
       "0  22:18919742-21440655  Deletion-0.89453   250577      chr22        18919742   \n",
       "0  22:18919942-21440514        Deletion-1   262079      chr22        18919942   \n",
       "0  22:18919742-21440655        Deletion-1   262934      chr22        18919742   \n",
       "0  22:18919942-21440514        Deletion-1   263156      chr22        18919942   \n",
       "0    16:6704616-6785666        Deletion-1   263159      chr16         6704616   \n",
       "\n",
       "   location_end  \n",
       "0      21440655  \n",
       "0      21440514  \n",
       "0      21440655  \n",
       "0      21440514  \n",
       "0       6785666  "
      ]
     },
     "execution_count": 119,
     "metadata": {},
     "output_type": "execute_result"
    }
   ],
   "source": [
    "# test \n",
    "a = pd.concat(locs)\n",
    "a.columns = ['Location', 'class/mean_ratio', 'Patient']\n",
    "a['chromosome'] = a.Location.apply(lambda x:f'chr{x.split(\":\")[0]}')\n",
    "a['location_start'] = a.Location.apply(lambda x:int(x.split(':')[1].split('-')[0]))\n",
    "a['location_end'] = a.Location.apply(lambda x:int(x.split(':')[1].split('-')[1]))\n",
    "# a[['Location', 'class/mean_ratio']]\n",
    "# a.columns\n",
    "a.head()"
   ]
  },
  {
   "cell_type": "code",
   "execution_count": 87,
   "metadata": {},
   "outputs": [
    {
     "data": {
      "text/plain": [
       "NoneType"
      ]
     },
     "execution_count": 87,
     "metadata": {},
     "output_type": "execute_result"
    }
   ],
   "source": [
    "# None==None\n",
    "# # df_loc==None\n",
    "# type(None)"
   ]
  },
  {
   "cell_type": "code",
   "execution_count": 72,
   "metadata": {},
   "outputs": [
    {
     "data": {
      "text/plain": [
       "Index(['Location', 'Class /Mean Ratio', 'Size', 'Genes',\n",
       "       'Inheritance /Genotype', 'Pathogenicity /Contribution',\n",
       "       'DS Score /Sampling Probability', 'Links', 'Unnamed: 8'],\n",
       "      dtype='object')"
      ]
     },
     "execution_count": 72,
     "metadata": {},
     "output_type": "execute_result"
    }
   ],
   "source": [
    "get_cnvs_table(browser, clickable_open_page).columns"
   ]
  },
  {
   "cell_type": "code",
   "execution_count": 19,
   "metadata": {},
   "outputs": [],
   "source": [
    "from selenium.webdriver.support.ui import Select"
   ]
  },
  {
   "cell_type": "code",
   "execution_count": 54,
   "metadata": {},
   "outputs": [],
   "source": [
    "browser.switch_to.window(parentWindow)"
   ]
  },
  {
   "cell_type": "code",
   "execution_count": 38,
   "metadata": {
    "scrolled": false
   },
   "outputs": [
    {
     "name": "stdout",
     "output_type": "stream",
     "text": [
      "275295\n",
      "276051\n",
      "266768\n",
      "277688\n",
      "278276\n",
      "280486\n",
      "280514\n",
      "285026\n",
      "285366\n",
      "288246\n",
      "289903\n",
      "292121\n",
      "293644\n",
      "294634\n",
      "295570\n",
      "301139\n",
      "304086\n",
      "324223\n",
      "324553\n",
      "327576\n",
      "327630\n",
      "327635\n",
      "331301\n",
      "332406\n",
      "287518\n",
      "340106\n",
      "360833\n",
      "366775\n",
      "366857\n"
     ]
    },
    {
     "ename": "NoSuchWindowException",
     "evalue": "Message: no such window: window was already closed\n  (Session info: chrome=77.0.3865.120)\n  (Driver info: chromedriver=2.38.552522 (437e6fbedfa8762dec75e2c5b3ddb86763dc9dcb),platform=Windows NT 10.0.18362 x86_64)\n",
     "output_type": "error",
     "traceback": [
      "\u001b[1;31m---------------------------------------------------------------------------\u001b[0m",
      "\u001b[1;31mNoSuchWindowException\u001b[0m                     Traceback (most recent call last)",
      "\u001b[1;32m<ipython-input-11-587d0e1065b8>\u001b[0m in \u001b[0;36mget_location\u001b[1;34m(browser, clickable_open_page)\u001b[0m\n\u001b[0;32m      7\u001b[0m                 (By.XPATH, \n\u001b[1;32m----> 8\u001b[1;33m                  \u001b[1;34m\"//div[@class='position']/span[@class='end']\"\u001b[0m\u001b[1;33m\u001b[0m\u001b[0m\n\u001b[0m\u001b[0;32m      9\u001b[0m                 ))\n",
      "\u001b[1;32m~\\AppData\\Roaming\\Python\\Python36\\site-packages\\selenium\\webdriver\\support\\wait.py\u001b[0m in \u001b[0;36muntil\u001b[1;34m(self, method, message)\u001b[0m\n\u001b[0;32m     70\u001b[0m             \u001b[1;32mtry\u001b[0m\u001b[1;33m:\u001b[0m\u001b[1;33m\u001b[0m\u001b[0m\n\u001b[1;32m---> 71\u001b[1;33m                 \u001b[0mvalue\u001b[0m \u001b[1;33m=\u001b[0m \u001b[0mmethod\u001b[0m\u001b[1;33m(\u001b[0m\u001b[0mself\u001b[0m\u001b[1;33m.\u001b[0m\u001b[0m_driver\u001b[0m\u001b[1;33m)\u001b[0m\u001b[1;33m\u001b[0m\u001b[0m\n\u001b[0m\u001b[0;32m     72\u001b[0m                 \u001b[1;32mif\u001b[0m \u001b[0mvalue\u001b[0m\u001b[1;33m:\u001b[0m\u001b[1;33m\u001b[0m\u001b[0m\n",
      "\u001b[1;32m~\\AppData\\Roaming\\Python\\Python36\\site-packages\\selenium\\webdriver\\support\\expected_conditions.py\u001b[0m in \u001b[0;36m__call__\u001b[1;34m(self, driver)\u001b[0m\n\u001b[0;32m     63\u001b[0m     \u001b[1;32mdef\u001b[0m \u001b[0m__call__\u001b[0m\u001b[1;33m(\u001b[0m\u001b[0mself\u001b[0m\u001b[1;33m,\u001b[0m \u001b[0mdriver\u001b[0m\u001b[1;33m)\u001b[0m\u001b[1;33m:\u001b[0m\u001b[1;33m\u001b[0m\u001b[0m\n\u001b[1;32m---> 64\u001b[1;33m         \u001b[1;32mreturn\u001b[0m \u001b[0m_find_element\u001b[0m\u001b[1;33m(\u001b[0m\u001b[0mdriver\u001b[0m\u001b[1;33m,\u001b[0m \u001b[0mself\u001b[0m\u001b[1;33m.\u001b[0m\u001b[0mlocator\u001b[0m\u001b[1;33m)\u001b[0m\u001b[1;33m\u001b[0m\u001b[0m\n\u001b[0m\u001b[0;32m     65\u001b[0m \u001b[1;33m\u001b[0m\u001b[0m\n",
      "\u001b[1;32m~\\AppData\\Roaming\\Python\\Python36\\site-packages\\selenium\\webdriver\\support\\expected_conditions.py\u001b[0m in \u001b[0;36m_find_element\u001b[1;34m(driver, by)\u001b[0m\n\u001b[0;32m    414\u001b[0m     \u001b[1;32mexcept\u001b[0m \u001b[0mWebDriverException\u001b[0m \u001b[1;32mas\u001b[0m \u001b[0me\u001b[0m\u001b[1;33m:\u001b[0m\u001b[1;33m\u001b[0m\u001b[0m\n\u001b[1;32m--> 415\u001b[1;33m         \u001b[1;32mraise\u001b[0m \u001b[0me\u001b[0m\u001b[1;33m\u001b[0m\u001b[0m\n\u001b[0m\u001b[0;32m    416\u001b[0m \u001b[1;33m\u001b[0m\u001b[0m\n",
      "\u001b[1;32m~\\AppData\\Roaming\\Python\\Python36\\site-packages\\selenium\\webdriver\\support\\expected_conditions.py\u001b[0m in \u001b[0;36m_find_element\u001b[1;34m(driver, by)\u001b[0m\n\u001b[0;32m    410\u001b[0m     \u001b[1;32mtry\u001b[0m\u001b[1;33m:\u001b[0m\u001b[1;33m\u001b[0m\u001b[0m\n\u001b[1;32m--> 411\u001b[1;33m         \u001b[1;32mreturn\u001b[0m \u001b[0mdriver\u001b[0m\u001b[1;33m.\u001b[0m\u001b[0mfind_element\u001b[0m\u001b[1;33m(\u001b[0m\u001b[1;33m*\u001b[0m\u001b[0mby\u001b[0m\u001b[1;33m)\u001b[0m\u001b[1;33m\u001b[0m\u001b[0m\n\u001b[0m\u001b[0;32m    412\u001b[0m     \u001b[1;32mexcept\u001b[0m \u001b[0mNoSuchElementException\u001b[0m \u001b[1;32mas\u001b[0m \u001b[0me\u001b[0m\u001b[1;33m:\u001b[0m\u001b[1;33m\u001b[0m\u001b[0m\n",
      "\u001b[1;32m~\\AppData\\Roaming\\Python\\Python36\\site-packages\\selenium\\webdriver\\remote\\webdriver.py\u001b[0m in \u001b[0;36mfind_element\u001b[1;34m(self, by, value)\u001b[0m\n\u001b[0;32m    977\u001b[0m             \u001b[1;34m'using'\u001b[0m\u001b[1;33m:\u001b[0m \u001b[0mby\u001b[0m\u001b[1;33m,\u001b[0m\u001b[1;33m\u001b[0m\u001b[0m\n\u001b[1;32m--> 978\u001b[1;33m             'value': value})['value']\n\u001b[0m\u001b[0;32m    979\u001b[0m \u001b[1;33m\u001b[0m\u001b[0m\n",
      "\u001b[1;32m~\\AppData\\Roaming\\Python\\Python36\\site-packages\\selenium\\webdriver\\remote\\webdriver.py\u001b[0m in \u001b[0;36mexecute\u001b[1;34m(self, driver_command, params)\u001b[0m\n\u001b[0;32m    320\u001b[0m         \u001b[1;32mif\u001b[0m \u001b[0mresponse\u001b[0m\u001b[1;33m:\u001b[0m\u001b[1;33m\u001b[0m\u001b[0m\n\u001b[1;32m--> 321\u001b[1;33m             \u001b[0mself\u001b[0m\u001b[1;33m.\u001b[0m\u001b[0merror_handler\u001b[0m\u001b[1;33m.\u001b[0m\u001b[0mcheck_response\u001b[0m\u001b[1;33m(\u001b[0m\u001b[0mresponse\u001b[0m\u001b[1;33m)\u001b[0m\u001b[1;33m\u001b[0m\u001b[0m\n\u001b[0m\u001b[0;32m    322\u001b[0m             response['value'] = self._unwrap_value(\n",
      "\u001b[1;32m~\\AppData\\Roaming\\Python\\Python36\\site-packages\\selenium\\webdriver\\remote\\errorhandler.py\u001b[0m in \u001b[0;36mcheck_response\u001b[1;34m(self, response)\u001b[0m\n\u001b[0;32m    241\u001b[0m             \u001b[1;32mraise\u001b[0m \u001b[0mexception_class\u001b[0m\u001b[1;33m(\u001b[0m\u001b[0mmessage\u001b[0m\u001b[1;33m,\u001b[0m \u001b[0mscreen\u001b[0m\u001b[1;33m,\u001b[0m \u001b[0mstacktrace\u001b[0m\u001b[1;33m,\u001b[0m \u001b[0malert_text\u001b[0m\u001b[1;33m)\u001b[0m\u001b[1;33m\u001b[0m\u001b[0m\n\u001b[1;32m--> 242\u001b[1;33m         \u001b[1;32mraise\u001b[0m \u001b[0mexception_class\u001b[0m\u001b[1;33m(\u001b[0m\u001b[0mmessage\u001b[0m\u001b[1;33m,\u001b[0m \u001b[0mscreen\u001b[0m\u001b[1;33m,\u001b[0m \u001b[0mstacktrace\u001b[0m\u001b[1;33m)\u001b[0m\u001b[1;33m\u001b[0m\u001b[0m\n\u001b[0m\u001b[0;32m    243\u001b[0m \u001b[1;33m\u001b[0m\u001b[0m\n",
      "\u001b[1;31mNoSuchWindowException\u001b[0m: Message: no such window: window was already closed\n  (Session info: chrome=77.0.3865.120)\n  (Driver info: chromedriver=2.38.552522 (437e6fbedfa8762dec75e2c5b3ddb86763dc9dcb),platform=Windows NT 10.0.18362 x86_64)\n",
      "\nDuring handling of the above exception, another exception occurred:\n",
      "\u001b[1;31mNoSuchWindowException\u001b[0m                     Traceback (most recent call last)",
      "\u001b[1;32m<ipython-input-38-62845ba459cb>\u001b[0m in \u001b[0;36m<module>\u001b[1;34m()\u001b[0m\n\u001b[0;32m      7\u001b[0m \u001b[1;32mfor\u001b[0m \u001b[0mclickable_open_page\u001b[0m \u001b[1;32min\u001b[0m \u001b[0mclickable_open_pages\u001b[0m\u001b[1;33m:\u001b[0m\u001b[1;33m\u001b[0m\u001b[0m\n\u001b[0;32m      8\u001b[0m     \u001b[0mprint\u001b[0m\u001b[1;33m(\u001b[0m\u001b[0mclickable_open_page\u001b[0m\u001b[1;33m.\u001b[0m\u001b[0mtext\u001b[0m\u001b[1;33m)\u001b[0m\u001b[1;33m\u001b[0m\u001b[0m\n\u001b[1;32m----> 9\u001b[1;33m     \u001b[0mloc\u001b[0m \u001b[1;33m=\u001b[0m \u001b[0mget_location\u001b[0m\u001b[1;33m(\u001b[0m\u001b[0mbrowser\u001b[0m\u001b[1;33m,\u001b[0m \u001b[0mclickable_open_page\u001b[0m\u001b[1;33m=\u001b[0m\u001b[0mclickable_open_page\u001b[0m\u001b[1;33m)\u001b[0m\u001b[1;33m\u001b[0m\u001b[0m\n\u001b[0m\u001b[0;32m     10\u001b[0m     \u001b[0mlocs\u001b[0m\u001b[1;33m.\u001b[0m\u001b[0mappend\u001b[0m\u001b[1;33m(\u001b[0m\u001b[1;33m[\u001b[0m\u001b[0mclickable_open_page\u001b[0m\u001b[1;33m.\u001b[0m\u001b[0mtext\u001b[0m\u001b[1;33m,\u001b[0m \u001b[0mloc\u001b[0m\u001b[1;33m[\u001b[0m\u001b[1;36m0\u001b[0m\u001b[1;33m]\u001b[0m\u001b[1;33m,\u001b[0m \u001b[0mloc\u001b[0m\u001b[1;33m[\u001b[0m\u001b[1;36m1\u001b[0m\u001b[1;33m]\u001b[0m\u001b[1;33m]\u001b[0m\u001b[1;33m)\u001b[0m\u001b[1;33m\u001b[0m\u001b[0m\n\u001b[0;32m     11\u001b[0m \u001b[1;31m# df['location_start'] = loc_ss\u001b[0m\u001b[1;33m\u001b[0m\u001b[1;33m\u001b[0m\u001b[0m\n",
      "\u001b[1;32m<ipython-input-11-587d0e1065b8>\u001b[0m in \u001b[0;36mget_location\u001b[1;34m(browser, clickable_open_page)\u001b[0m\n\u001b[0;32m     14\u001b[0m         loc_s = browser.find_element(\n\u001b[0;32m     15\u001b[0m                     \u001b[0mBy\u001b[0m\u001b[1;33m.\u001b[0m\u001b[0mXPATH\u001b[0m\u001b[1;33m,\u001b[0m\u001b[1;33m\u001b[0m\u001b[0m\n\u001b[1;32m---> 16\u001b[1;33m                     \u001b[1;34m\"//div[@class='position']/span[@class='start']\"\u001b[0m\u001b[1;33m\u001b[0m\u001b[0m\n\u001b[0m\u001b[0;32m     17\u001b[0m                 ).text\n\u001b[0;32m     18\u001b[0m         loc_e = browser.find_element(\n",
      "\u001b[1;32m~\\AppData\\Roaming\\Python\\Python36\\site-packages\\selenium\\webdriver\\remote\\webdriver.py\u001b[0m in \u001b[0;36mfind_element\u001b[1;34m(self, by, value)\u001b[0m\n\u001b[0;32m    976\u001b[0m         return self.execute(Command.FIND_ELEMENT, {\n\u001b[0;32m    977\u001b[0m             \u001b[1;34m'using'\u001b[0m\u001b[1;33m:\u001b[0m \u001b[0mby\u001b[0m\u001b[1;33m,\u001b[0m\u001b[1;33m\u001b[0m\u001b[0m\n\u001b[1;32m--> 978\u001b[1;33m             'value': value})['value']\n\u001b[0m\u001b[0;32m    979\u001b[0m \u001b[1;33m\u001b[0m\u001b[0m\n\u001b[0;32m    980\u001b[0m     \u001b[1;32mdef\u001b[0m \u001b[0mfind_elements\u001b[0m\u001b[1;33m(\u001b[0m\u001b[0mself\u001b[0m\u001b[1;33m,\u001b[0m \u001b[0mby\u001b[0m\u001b[1;33m=\u001b[0m\u001b[0mBy\u001b[0m\u001b[1;33m.\u001b[0m\u001b[0mID\u001b[0m\u001b[1;33m,\u001b[0m \u001b[0mvalue\u001b[0m\u001b[1;33m=\u001b[0m\u001b[1;32mNone\u001b[0m\u001b[1;33m)\u001b[0m\u001b[1;33m:\u001b[0m\u001b[1;33m\u001b[0m\u001b[0m\n",
      "\u001b[1;32m~\\AppData\\Roaming\\Python\\Python36\\site-packages\\selenium\\webdriver\\remote\\webdriver.py\u001b[0m in \u001b[0;36mexecute\u001b[1;34m(self, driver_command, params)\u001b[0m\n\u001b[0;32m    319\u001b[0m         \u001b[0mresponse\u001b[0m \u001b[1;33m=\u001b[0m \u001b[0mself\u001b[0m\u001b[1;33m.\u001b[0m\u001b[0mcommand_executor\u001b[0m\u001b[1;33m.\u001b[0m\u001b[0mexecute\u001b[0m\u001b[1;33m(\u001b[0m\u001b[0mdriver_command\u001b[0m\u001b[1;33m,\u001b[0m \u001b[0mparams\u001b[0m\u001b[1;33m)\u001b[0m\u001b[1;33m\u001b[0m\u001b[0m\n\u001b[0;32m    320\u001b[0m         \u001b[1;32mif\u001b[0m \u001b[0mresponse\u001b[0m\u001b[1;33m:\u001b[0m\u001b[1;33m\u001b[0m\u001b[0m\n\u001b[1;32m--> 321\u001b[1;33m             \u001b[0mself\u001b[0m\u001b[1;33m.\u001b[0m\u001b[0merror_handler\u001b[0m\u001b[1;33m.\u001b[0m\u001b[0mcheck_response\u001b[0m\u001b[1;33m(\u001b[0m\u001b[0mresponse\u001b[0m\u001b[1;33m)\u001b[0m\u001b[1;33m\u001b[0m\u001b[0m\n\u001b[0m\u001b[0;32m    322\u001b[0m             response['value'] = self._unwrap_value(\n\u001b[0;32m    323\u001b[0m                 response.get('value', None))\n",
      "\u001b[1;32m~\\AppData\\Roaming\\Python\\Python36\\site-packages\\selenium\\webdriver\\remote\\errorhandler.py\u001b[0m in \u001b[0;36mcheck_response\u001b[1;34m(self, response)\u001b[0m\n\u001b[0;32m    240\u001b[0m                 \u001b[0malert_text\u001b[0m \u001b[1;33m=\u001b[0m \u001b[0mvalue\u001b[0m\u001b[1;33m[\u001b[0m\u001b[1;34m'alert'\u001b[0m\u001b[1;33m]\u001b[0m\u001b[1;33m.\u001b[0m\u001b[0mget\u001b[0m\u001b[1;33m(\u001b[0m\u001b[1;34m'text'\u001b[0m\u001b[1;33m)\u001b[0m\u001b[1;33m\u001b[0m\u001b[0m\n\u001b[0;32m    241\u001b[0m             \u001b[1;32mraise\u001b[0m \u001b[0mexception_class\u001b[0m\u001b[1;33m(\u001b[0m\u001b[0mmessage\u001b[0m\u001b[1;33m,\u001b[0m \u001b[0mscreen\u001b[0m\u001b[1;33m,\u001b[0m \u001b[0mstacktrace\u001b[0m\u001b[1;33m,\u001b[0m \u001b[0malert_text\u001b[0m\u001b[1;33m)\u001b[0m\u001b[1;33m\u001b[0m\u001b[0m\n\u001b[1;32m--> 242\u001b[1;33m         \u001b[1;32mraise\u001b[0m \u001b[0mexception_class\u001b[0m\u001b[1;33m(\u001b[0m\u001b[0mmessage\u001b[0m\u001b[1;33m,\u001b[0m \u001b[0mscreen\u001b[0m\u001b[1;33m,\u001b[0m \u001b[0mstacktrace\u001b[0m\u001b[1;33m)\u001b[0m\u001b[1;33m\u001b[0m\u001b[0m\n\u001b[0m\u001b[0;32m    243\u001b[0m \u001b[1;33m\u001b[0m\u001b[0m\n\u001b[0;32m    244\u001b[0m     \u001b[1;32mdef\u001b[0m \u001b[0m_value_or_default\u001b[0m\u001b[1;33m(\u001b[0m\u001b[0mself\u001b[0m\u001b[1;33m,\u001b[0m \u001b[0mobj\u001b[0m\u001b[1;33m,\u001b[0m \u001b[0mkey\u001b[0m\u001b[1;33m,\u001b[0m \u001b[0mdefault\u001b[0m\u001b[1;33m)\u001b[0m\u001b[1;33m:\u001b[0m\u001b[1;33m\u001b[0m\u001b[0m\n",
      "\u001b[1;31mNoSuchWindowException\u001b[0m: Message: no such window: window was already closed\n  (Session info: chrome=77.0.3865.120)\n  (Driver info: chromedriver=2.38.552522 (437e6fbedfa8762dec75e2c5b3ddb86763dc9dcb),platform=Windows NT 10.0.18362 x86_64)\n"
     ]
    }
   ],
   "source": [
    "global parentWindow\n",
    "parentWindow = browser.window_handles[0]\n",
    "clickable_open_pages = browser.find_elements(\n",
    "    By.XPATH, \n",
    "    \"//div[@class='tab-content']/div[@class='tab-pane block active']/div[@class='dataTables_wrapper vue-table-wrapper']/div[@class='panel panel-default']/table[@class='table table-striped table-hover data-table vue-table']/tbody/tr[@class='clickable open-page']/td[1]\")\n",
    "locs = []\n",
    "# for clickable_open_page in clickable_open_pages:\n",
    "#     print(clickable_open_page.text)\n",
    "#     loc = get_location(browser, clickable_open_page=clickable_open_page)\n",
    "#     locs.append([clickable_open_page.text, loc[0], loc[1]])\n",
    "# df['location_start'] = loc_ss\n",
    "# df['location_end'] = loc_es\n",
    "# df[0].head()\n",
    "print(clickable_open_page[9].text)\n",
    "loc = get_location(browser, clickable_open_page=clickable_open_page[9])\n",
    "# locs.append([clickable_open_page.text[9], loc[0], loc[1]])\n",
    "loc"
   ]
  }
 ],
 "metadata": {
  "kernelspec": {
   "display_name": "Python 3",
   "language": "python",
   "name": "python3"
  },
  "language_info": {
   "codemirror_mode": {
    "name": "ipython",
    "version": 3
   },
   "file_extension": ".py",
   "mimetype": "text/x-python",
   "name": "python",
   "nbconvert_exporter": "python",
   "pygments_lexer": "ipython3",
   "version": "3.6.5"
  }
 },
 "nbformat": 4,
 "nbformat_minor": 2
}
